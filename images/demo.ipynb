{
 "cells": [
  {
   "cell_type": "code",
   "execution_count": null,
   "metadata": {},
   "outputs": [],
   "source": [
    "import pathlib\n",
    "import cv2\n",
    "import matplotlib.pyplot as plt\n",
    "import numpy as np\n",
    "\n",
    "import facerecognition\n",
    "import clustering"
   ]
  },
  {
   "cell_type": "code",
   "execution_count": null,
   "metadata": {},
   "outputs": [],
   "source": [
    "def img_show(img):\n",
    "    img_rgb = cv2.cvtColor(img, cv2.COLOR_BGR2RGB)\n",
    "    plt.imshow(img_rgb)"
   ]
  },
  {
   "cell_type": "code",
   "execution_count": null,
   "metadata": {},
   "outputs": [],
   "source": [
    "root_dir = pathlib.Path().resolve()\n",
    "features_dir = root_dir.joinpath(\"features\")\n",
    "\n",
    "if not features_dir.exists():\n",
    "    features_dir.mkdir()\n"
   ]
  },
  {
   "cell_type": "code",
   "execution_count": null,
   "metadata": {},
   "outputs": [],
   "source": [
    "images_dir = root_dir.joinpath(\"images\")\n",
    "print(images_dir)\n",
    "print(images_dir.exists())\n",
    "\n",
    "images_path = images_dir.glob('**/*.jpg')\n",
    "\n",
    "print(images_path)\n"
   ]
  },
  {
   "cell_type": "code",
   "execution_count": null,
   "metadata": {},
   "outputs": [],
   "source": [
    "face = facerecognition.Face()"
   ]
  },
  {
   "cell_type": "code",
   "execution_count": null,
   "metadata": {},
   "outputs": [],
   "source": [
    "for img_path in images_path:\n",
    "    face.img2features(img_path, features_dir)"
   ]
  },
  {
   "cell_type": "markdown",
   "metadata": {},
   "source": [
    "## Clustering"
   ]
  },
  {
   "cell_type": "code",
   "execution_count": null,
   "metadata": {},
   "outputs": [],
   "source": [
    "feature_list = np.zeros(128)  # dummy\n",
    "\n",
    "npz_files = features_dir.glob('**/*.npz')\n",
    "npz_files = list(npz_files)\n",
    "\n",
    "for npz_path in npz_files:\n",
    "    img, feature = face.load_img_feature(npz_path)\n",
    "    feature_list = np.vstack((feature_list, feature))\n",
    "\n",
    "feature_list = feature_list[1:]\n",
    "print(feature_list.shape)"
   ]
  },
  {
   "cell_type": "code",
   "execution_count": null,
   "metadata": {},
   "outputs": [],
   "source": [
    "nclusters = 4  # nclusters\n",
    "\n",
    "kmeans = clustering.Kmeans()\n",
    "compactness, labels, centers = kmeans.apply(feature_list, nclusters)\n",
    "print(labels.ravel())"
   ]
  },
  {
   "cell_type": "code",
   "execution_count": null,
   "metadata": {},
   "outputs": [],
   "source": [
    "for npz_path, label in zip(npz_files, labels.ravel()):\n",
    "    rename = str(label) + \"_\" + npz_path.name\n",
    "    rename_path = npz_path.parent.joinpath(rename)\n",
    "    npz_path.rename(rename_path)"
   ]
  },
  {
   "cell_type": "markdown",
   "metadata": {},
   "source": [
    "## Verification"
   ]
  },
  {
   "cell_type": "code",
   "execution_count": null,
   "metadata": {},
   "outputs": [],
   "source": [
    "def img_blank(n, height=112, width=112):\n",
    "    if n==0:\n",
    "        height = 0\n",
    "    blank = np.zeros((height, width*n, 3))\n",
    "    blank += 255  # white\n",
    "    return np.uint8(blank)"
   ]
  },
  {
   "cell_type": "code",
   "execution_count": null,
   "metadata": {},
   "outputs": [],
   "source": [
    "npz_files = features_dir.glob('**/*.npz')\n",
    "\n",
    "img_list = [[] for _ in range(nclusters)]\n",
    "for npz_path in npz_files:\n",
    "    i = npz_path.name.find(\"_\")\n",
    "    label = int(npz_path.name[:i])  # <class 'int'>\n",
    "\n",
    "    img, feature = face.load_img_feature(npz_path)\n",
    "    img_list[label].append(img)\n",
    "\n",
    "# Number of clusters in each\n",
    "num_nclusters = [ len(img_list[i]) for i in range(nclusters) ]\n",
    "print(num_nclusters)"
   ]
  },
  {
   "cell_type": "code",
   "execution_count": null,
   "metadata": {},
   "outputs": [],
   "source": [
    "max_num = max(num_nclusters)\n",
    "for label, num in enumerate(num_nclusters):\n",
    "    n_blank = max_num - num\n",
    "    if n_blank > 0:\n",
    "        blank = img_blank(n_blank)\n",
    "        img_list[label].append(blank)"
   ]
  },
  {
   "cell_type": "code",
   "execution_count": null,
   "metadata": {},
   "outputs": [],
   "source": [
    "img_row = [ cv2.hconcat([*img_list[i]]) for i in range(nclusters) ]\n",
    "img_tile = cv2.vconcat([*img_row])\n",
    "img_show(img_tile)"
   ]
  },
  {
   "cell_type": "code",
   "execution_count": null,
   "metadata": {},
   "outputs": [],
   "source": [
    "img_save_path = root_dir.joinpath(\"tile.jpg\")\n",
    "\n",
    "cv2.imwrite(str(img_save_path), img_tile)"
   ]
  }
 ],
 "metadata": {
  "interpreter": {
   "hash": "58f02528d35b4eecca3ef62934377146dc4ede4599f65cf2543f6e0bddd8b0e9"
  },
  "kernelspec": {
   "display_name": "Python 3.8.12 64-bit ('opencv454': conda)",
   "language": "python",
   "name": "python3"
  },
  "language_info": {
   "codemirror_mode": {
    "name": "ipython",
    "version": 3
   },
   "file_extension": ".py",
   "mimetype": "text/x-python",
   "name": "python",
   "nbconvert_exporter": "python",
   "pygments_lexer": "ipython3",
   "version": "3.8.12"
  },
  "orig_nbformat": 4
 },
 "nbformat": 4,
 "nbformat_minor": 2
}
